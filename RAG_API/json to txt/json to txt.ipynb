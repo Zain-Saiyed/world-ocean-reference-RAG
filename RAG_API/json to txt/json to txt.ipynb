{
 "cells": [
  {
   "cell_type": "code",
   "execution_count": 17,
   "id": "37e8402d-98b0-46cc-b839-9df7da7f74b7",
   "metadata": {},
   "outputs": [],
   "source": [
    "import json , os"
   ]
  },
  {
   "cell_type": "code",
   "execution_count": 10,
   "id": "d90f0089-41d9-4417-8054-525c3c215690",
   "metadata": {},
   "outputs": [
    {
     "name": "stdout",
     "output_type": "stream",
     "text": [
      "[{'id': 'W2964216155', 'title': 'Atlantis: A spatially explicit end‐to‐end marine ecosystem model with dynamically integrated physics, ecology and socio‐economic modules', 'author': ['Asta Audzijonytė', 'Heidi Pethybridge', 'Javier Porobić', 'Rebecca Gorton', 'Isaac C. Kaplan', 'Elizabeth A. Fulton'], 'abstract': 'Abstract Marine ecosystem management is increasingly expected to take into account a wide range of ecological and socio‐economic factors. Decision‐making is helped by end‐to‐end ecosystem models that allow exploration of alternative management scenarios given a complex range of interacting factors. We present Atlantis – a spatially structured largely deterministic end‐to‐end marine ecosystem model written in C, available for all major operating systems, based on dynamically interacting physics, biology, fisheries, management, assessment and economics submodels. A detailed installation guide and example application files are also provided. One of the main features of Atlantis is its modularity. At the simplest level Atlantis can have uniform forcing of oceanographic processes, a single primary producer and a consumer. At the most complex level, Atlantis can be used with a range of environmentally driven ecological responses, complex and habitat‐dependent food web, dynamic assessment, management and fishing effort driven by market forces and human behaviour. The combination chosen should be guided by the available data and the questions to be answered. Atlantis provides a large and customizable list of output files and summary statistics that can be analysed and plotted using a number of dedicated r packages. When applying the Atlantis package, the users should be aware of the caveats associated with complex models, such as parameter and structural model uncertainty and challenges interpreting interactions of multiple processes.', 'source': 'Methods in ecology and evolution', 'pdf_url': 'https://besjournals.onlinelibrary.wiley.com/doi/pdfdirect/10.1111/2041-210X.13272', 'cited_by_count': 55, 'publication_year': 2019, 'type': 'article', 'concepts': ['Marine ecosystem', 'Modularity (biology)', 'Range (aeronautics)', 'Ecosystem', 'Fisheries management', 'Ecosystem-based management', 'Ecology', 'Forcing (mathematics)', 'Computer science', 'Fishing', 'Environmental resource management', 'Data science', 'Environmental science', 'Engineering', 'Biology', 'Physics', 'Genetics', 'Atmospheric sciences', 'Aerospace engineering']}]\n",
      "\n",
      "dict_keys(['id', 'title', 'author', 'abstract', 'source', 'pdf_url', 'cited_by_count', 'publication_year', 'type', 'concepts'])\n"
     ]
    }
   ],
   "source": [
    "with open('cleaned_v2.json') as f:\n",
    "    json_data = json.load(f)\n",
    "\n",
    "print(json_data[:1])\n",
    "print()\n",
    "print(json_data[1].keys())"
   ]
  },
  {
   "cell_type": "markdown",
   "id": "4d1753cf-24bc-459c-a7e2-6c8f0e8daa68",
   "metadata": {},
   "source": [
    "### JSON to TXT:"
   ]
  },
  {
   "cell_type": "code",
   "execution_count": 23,
   "id": "c97faf4c-5d0a-41fc-897f-e60d2552871f",
   "metadata": {},
   "outputs": [],
   "source": [
    "def json_to_multiple_txt_files(json_data):\n",
    "    # Create the output directory \n",
    "    os.makedirs(\"data/\", exist_ok=True)\n",
    "    for paper in json_data:\n",
    "        filename = f\"{paper['id']}.txt\"\n",
    "        filepath = os.path.join(\"data/\", filename)\n",
    "        # Open file and write content\n",
    "        with open(filepath, 'w', encoding='utf-8') as f:\n",
    "            f.write(f\"ID: {paper['id']}\\n\")\n",
    "            f.write(f\"TITLE: {paper['title']}\\n\")\n",
    "            f.write(f\"AUTHOR: {paper['author']}\\n\")\n",
    "            f.write(f\"ABSTRACT:\\n{paper['abstract']}\\n\\n\")\n",
    "            f.write(f\"SOURCE: {paper['source']}\\n\")\n",
    "            f.write(f\"PDF URL: {paper['pdf_url']}\\n\")\n",
    "            f.write(f\"CITED BY COUNT: {paper['cited_by_count']}\\n\")\n",
    "            f.write(f\"PUBLICATION YEAR: {paper['publication_year']}\\n\")\n",
    "            f.write(f\"TYPE: {paper['type']}\\n\")\n",
    "            f.write(f\"CONCEPTS: {paper['concepts']}\\n\")"
   ]
  },
  {
   "cell_type": "code",
   "execution_count": 24,
   "id": "bc0c04de-b57b-4e08-9b7e-51b5a3556c73",
   "metadata": {},
   "outputs": [],
   "source": [
    "json_to_multiple_txt_files(json_data) "
   ]
  },
  {
   "cell_type": "code",
   "execution_count": null,
   "id": "1577914a-d6f6-46cd-8f17-3fb496051e56",
   "metadata": {},
   "outputs": [],
   "source": []
  },
  {
   "cell_type": "code",
   "execution_count": null,
   "id": "271d8d5f-fed7-490d-a2df-c343cb8ee65a",
   "metadata": {},
   "outputs": [],
   "source": []
  },
  {
   "cell_type": "code",
   "execution_count": null,
   "id": "5cc7ef0d-5eb2-4f74-b6ef-52de9c425c9c",
   "metadata": {},
   "outputs": [],
   "source": []
  },
  {
   "cell_type": "code",
   "execution_count": null,
   "id": "98a9aeb3-c4f0-41d9-9ec2-67604a1c2fa7",
   "metadata": {},
   "outputs": [],
   "source": []
  },
  {
   "cell_type": "code",
   "execution_count": null,
   "id": "3b92cd44-250b-4413-8cb9-37fbe446fad3",
   "metadata": {},
   "outputs": [],
   "source": []
  },
  {
   "cell_type": "code",
   "execution_count": null,
   "id": "cc7da943-0d43-4db6-810e-08366582c9ba",
   "metadata": {},
   "outputs": [],
   "source": []
  },
  {
   "cell_type": "code",
   "execution_count": null,
   "id": "de9eb740-70e3-4d08-8310-3e3d7fde4d61",
   "metadata": {},
   "outputs": [],
   "source": []
  },
  {
   "cell_type": "code",
   "execution_count": null,
   "id": "05fa2f94-07f2-42d5-a70b-1cf320beab2a",
   "metadata": {},
   "outputs": [],
   "source": []
  },
  {
   "cell_type": "code",
   "execution_count": null,
   "id": "2430e3d7-f772-4795-bd1d-56e55d5dd0f6",
   "metadata": {},
   "outputs": [],
   "source": []
  },
  {
   "cell_type": "code",
   "execution_count": null,
   "id": "e2dfb5fe-5028-4cb1-899d-e8efb39f6e38",
   "metadata": {},
   "outputs": [],
   "source": []
  },
  {
   "cell_type": "code",
   "execution_count": null,
   "id": "09e2802b-86c3-4d68-aae4-e66b0d922c75",
   "metadata": {},
   "outputs": [],
   "source": []
  },
  {
   "cell_type": "code",
   "execution_count": null,
   "id": "f9d8c4df-f9d6-4090-bffb-c83c28744714",
   "metadata": {},
   "outputs": [],
   "source": []
  },
  {
   "cell_type": "code",
   "execution_count": null,
   "id": "f8fd32c4-0b07-4cc6-b26c-09bfedccb9fb",
   "metadata": {},
   "outputs": [],
   "source": []
  },
  {
   "cell_type": "code",
   "execution_count": null,
   "id": "d6b436ba-5755-4bed-9a1b-161859e94374",
   "metadata": {},
   "outputs": [],
   "source": []
  },
  {
   "cell_type": "code",
   "execution_count": null,
   "id": "fcf77f97-d758-43bd-8688-89a4d8fd6ee3",
   "metadata": {},
   "outputs": [],
   "source": []
  },
  {
   "cell_type": "code",
   "execution_count": null,
   "id": "ada4ae11-fd00-43d1-9874-ed711192ee18",
   "metadata": {},
   "outputs": [],
   "source": []
  },
  {
   "cell_type": "code",
   "execution_count": null,
   "id": "aa7f7df1-13ee-4fc1-9f19-6657cbf973b0",
   "metadata": {},
   "outputs": [],
   "source": []
  }
 ],
 "metadata": {
  "kernelspec": {
   "display_name": "Python 3 (ipykernel)",
   "language": "python",
   "name": "python3"
  },
  "language_info": {
   "codemirror_mode": {
    "name": "ipython",
    "version": 3
   },
   "file_extension": ".py",
   "mimetype": "text/x-python",
   "name": "python",
   "nbconvert_exporter": "python",
   "pygments_lexer": "ipython3",
   "version": "3.11.7"
  }
 },
 "nbformat": 4,
 "nbformat_minor": 5
}
